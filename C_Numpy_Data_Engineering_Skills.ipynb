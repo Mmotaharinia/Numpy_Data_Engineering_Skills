{
  "nbformat": 4,
  "nbformat_minor": 0,
  "metadata": {
    "colab": {
      "name": "C_Numpy_Data_Engineering_Skills.ipynb",
      "provenance": [],
      "collapsed_sections": [],
      "mount_file_id": "1D28e0XyTGP_il7nEyX5MzqnFCROyYUgN",
      "authorship_tag": "ABX9TyPLC/Xix5TNETeXazcLCtRu",
      "include_colab_link": true
    },
    "kernelspec": {
      "name": "python3",
      "display_name": "Python 3"
    },
    "language_info": {
      "name": "python"
    }
  },
  "cells": [
    {
      "cell_type": "markdown",
      "metadata": {
        "id": "view-in-github",
        "colab_type": "text"
      },
      "source": [
        "<a href=\"https://colab.research.google.com/github/Mmotaharinia/Numpy_Data_Engineering_Skills/blob/main/C_Numpy_Data_Engineering_Skills.ipynb\" target=\"_parent\"><img src=\"https://colab.research.google.com/assets/colab-badge.svg\" alt=\"Open In Colab\"/></a>"
      ]
    },
    {
      "cell_type": "code",
      "execution_count": null,
      "metadata": {
        "colab": {
          "base_uri": "https://localhost:8080/"
        },
        "id": "MDnUxxz5ouDD",
        "outputId": "fb395ee3-c8bb-4af1-a291-c4456d70ca0e"
      },
      "outputs": [
        {
          "output_type": "stream",
          "name": "stdout",
          "text": [
            "tim_comp= 2.3887999986982322e-05\n"
          ]
        }
      ],
      "source": [
        "#Some useful Liobraries\n",
        "from numpy.lib.function_base import kaiser\n",
        "from numpy.core.function_base import linspace\n",
        "import pandas as pd\n",
        "import numpy as np\n",
        "import math  \n",
        "import timeit\n",
        "%precision 2\n",
        "# Measure the time of code being run\n",
        "tim_comp=timeit.timeit(number=1000)\n",
        "print('tim_comp=',tim_comp)"
      ]
    },
    {
      "cell_type": "code",
      "source": [
        "#query a simple list\n",
        "lst=[[1,2,3,6],[0,0,0,0],[9,9,9,9]]\n",
        "print(lst[2][0])\n",
        "#add an item\n",
        "lst.append([777,777,777,777])\n",
        "print(lst)\n",
        "#remove an item\n",
        "lst.pop(3)\n",
        "print(lst)\n",
        "len(lst)"
      ],
      "metadata": {
        "colab": {
          "base_uri": "https://localhost:8080/"
        },
        "id": "cLi5xWdS5Swy",
        "outputId": "1ebd19d6-f8fb-401f-dcce-0d0b98baf6dc"
      },
      "execution_count": null,
      "outputs": [
        {
          "output_type": "stream",
          "name": "stdout",
          "text": [
            "9\n",
            "[[1, 2, 3, 6], [0, 0, 0, 0], [9, 9, 9, 9], [777, 777, 777, 777]]\n",
            "[[1, 2, 3, 6], [0, 0, 0, 0], [9, 9, 9, 9]]\n"
          ]
        },
        {
          "output_type": "execute_result",
          "data": {
            "text/plain": [
              "3"
            ]
          },
          "metadata": {},
          "execution_count": 33
        }
      ]
    },
    {
      "cell_type": "code",
      "source": [
        "#query a dictionary # each dictionary has a key that correspond to one or a list of items\n",
        "edic={'Alison':[19,20],\n",
        "   'Jack':[18,9],\n",
        "   'Mo':[20,7]}\n",
        "print('edic=',edic)\n",
        "#add an item\n",
        "edic['Lena']=17\n",
        "print('edic=',edic)\n",
        "#remove an item\n",
        "edic.pop('Lena')\n",
        "print('edic=',edic)\n",
        "print('edic[\"Mo\"][1]',edic['Mo'][1])\n",
        "edic['Alison'].append(19.5) # cause that is basically a list of items\n",
        "print('edic=',edic)\n",
        "len(edic)"
      ],
      "metadata": {
        "colab": {
          "base_uri": "https://localhost:8080/"
        },
        "id": "De7UTCoQVKvo",
        "outputId": "dc01698a-a62d-41c0-a697-9ba2cb8a5cc9"
      },
      "execution_count": null,
      "outputs": [
        {
          "output_type": "stream",
          "name": "stdout",
          "text": [
            "edic= {'Alison': [19, 20], 'Jack': [18, 9], 'Mo': [20, 7]}\n",
            "edic= {'Alison': [19, 20], 'Jack': [18, 9], 'Mo': [20, 7], 'Lena': 17}\n",
            "edic= {'Alison': [19, 20], 'Jack': [18, 9], 'Mo': [20, 7]}\n",
            "edic[\"Mo\"][1] 7\n",
            "edic= {'Alison': [19, 20, 19.5], 'Jack': [18, 9], 'Mo': [20, 7]}\n"
          ]
        },
        {
          "output_type": "execute_result",
          "data": {
            "text/plain": [
              "3"
            ]
          },
          "metadata": {},
          "execution_count": 15
        }
      ]
    },
    {
      "cell_type": "code",
      "source": [
        "#concat two dics\n",
        "edic2={'MK':[19,20],\n",
        "   'JK':[18,9],\n",
        "   'MK':[20,7]}\n",
        "edic2.update(edic)\n",
        "edic2"
      ],
      "metadata": {
        "colab": {
          "base_uri": "https://localhost:8080/"
        },
        "id": "n6aqg2vV2jgw",
        "outputId": "cb997f06-91b3-4757-d508-45e94dab9804"
      },
      "execution_count": null,
      "outputs": [
        {
          "output_type": "execute_result",
          "data": {
            "text/plain": [
              "{'Alison': [19, 20, 19.50],\n",
              " 'JK': [18, 9],\n",
              " 'Jack': [18, 9],\n",
              " 'MK': [20, 7],\n",
              " 'Mo': [20, 7]}"
            ]
          },
          "metadata": {},
          "execution_count": 20
        }
      ]
    },
    {
      "cell_type": "code",
      "source": [
        "# Numerical Arrays/Matrices (Numpy)\n",
        "#define an array and query a column vs row\n",
        "exp_arr=np.array([[1,2,3],[3,3,3],[55,55,78],[4,4,4]])\n",
        "#insert an additional row\n",
        "exp_arr[:,0]=0\n",
        "exp_arr[:,0]=[9,9,9,9]\n",
        "print('exp_arr=',exp_arr,'\\n')\n",
        "print('first row=',exp_arr[0,:])\n",
        "print('first column=',exp_arr[:,0])\n",
        "# find the number of rows and columns\n",
        "print('number of rows=',len(exp_arr[:,0]))\n",
        "print('number of columns=',len(exp_arr[0,:]))"
      ],
      "metadata": {
        "colab": {
          "base_uri": "https://localhost:8080/"
        },
        "id": "l6Ni5ogsLfom",
        "outputId": "b848237e-839c-4a5e-ccb7-62e92edddd78"
      },
      "execution_count": null,
      "outputs": [
        {
          "output_type": "stream",
          "name": "stdout",
          "text": [
            "exp_arr= [[ 9  2  3]\n",
            " [ 9  3  3]\n",
            " [ 9 55 78]\n",
            " [ 9  4  4]] \n",
            "\n",
            "first row= [9 2 3]\n",
            "first column= [9 9 9 9]\n",
            "number of rows= 4\n",
            "number of columns= 3\n"
          ]
        }
      ]
    },
    {
      "cell_type": "code",
      "source": [
        "#Matix slicing\n",
        "b1=np.array([[1,2,3,4],[0,0,0,0],[99,99,99,99]])\n",
        "b11=b1[1:3,0:2]\n",
        "b111=np.delete(b1,1,axis=0)\n",
        "print('b1=','\\n',b1,'\\n')\n",
        "print('b11=','\\n', b11,'\\n')\n",
        "print('b111=',b111,'\\n')"
      ],
      "metadata": {
        "colab": {
          "base_uri": "https://localhost:8080/"
        },
        "id": "OJA3I_wJMn4A",
        "outputId": "20d5285a-de0b-42e9-b1bc-53477c61b2e2"
      },
      "execution_count": null,
      "outputs": [
        {
          "output_type": "stream",
          "name": "stdout",
          "text": [
            "b1= \n",
            " [[ 1  2  3  4]\n",
            " [ 0  0  0  0]\n",
            " [99 99 99 99]] \n",
            "\n",
            "b11= \n",
            " [[ 0  0]\n",
            " [99 99]] \n",
            "\n",
            "b111= [[ 1  2  3  4]\n",
            " [99 99 99 99]] \n",
            "\n"
          ]
        }
      ]
    },
    {
      "cell_type": "code",
      "source": [
        "# array dimension\n",
        "a=np.array([[1,2,3],[0,0,0],[55,55,78],[0,0,0]])\n",
        "b=a.ndim\n",
        "print(\"b=\",b)\n",
        "\n",
        "# find the dimensions of a matrix\n",
        "c=a.shape\n",
        "print('c=',c)"
      ],
      "metadata": {
        "colab": {
          "base_uri": "https://localhost:8080/"
        },
        "id": "_LsBXSib5f_E",
        "outputId": "e0e49862-ede0-4004-a44e-8cfe9857c04d"
      },
      "execution_count": null,
      "outputs": [
        {
          "output_type": "stream",
          "name": "stdout",
          "text": [
            "b= 2\n",
            "c= (4, 3)\n"
          ]
        }
      ]
    },
    {
      "cell_type": "code",
      "source": [
        "#make a copy of a matrix, dataframe, list etc\n",
        "exm_array=np.array([[1,2,3,'h'],['k','k','k','k']])\n",
        "exm_array_copy=exm_array.copy()\n",
        "print(exm_array_copy)"
      ],
      "metadata": {
        "colab": {
          "base_uri": "https://localhost:8080/"
        },
        "id": "4RNFz2IkYCTm",
        "outputId": "7414d04a-e074-49f5-e85e-f346fd493bb3"
      },
      "execution_count": null,
      "outputs": [
        {
          "output_type": "stream",
          "name": "stdout",
          "text": [
            "[['1' '2' '3' 'h']\n",
            " ['k' 'k' 'k' 'k']]\n"
          ]
        }
      ]
    },
    {
      "cell_type": "code",
      "source": [
        "# produce an array of random numbers\n",
        "rand=np.random.rand(2,3) #dimension of the array \n",
        "rand_int=np.random.randint(1,1000,1000)\n",
        "print('rand=',rand,'\\n')\n",
        "# produce a sequence between two numbers\n",
        "seq=np.arange(10,50,4)\n",
        "print('seq=',seq)\n",
        "# divide an interval into x small intervals\n",
        "lin_sp= np.linspace(0,1,5)\n",
        "print('lin_sp=',lin_sp)"
      ],
      "metadata": {
        "colab": {
          "base_uri": "https://localhost:8080/"
        },
        "id": "SvZwKYG7Ls0X",
        "outputId": "978892bf-2ea7-432e-d1e7-8f69bf2f0025"
      },
      "execution_count": null,
      "outputs": [
        {
          "output_type": "stream",
          "name": "stdout",
          "text": [
            "rand= [[0.95 0.47 0.1 ]\n",
            " [0.01 0.55 0.21]] \n",
            "\n",
            "seq= [10 14 18 22 26 30 34 38 42 46]\n",
            "lin_sp= [0.   0.25 0.5  0.75 1.  ]\n"
          ]
        }
      ]
    },
    {
      "cell_type": "code",
      "source": [
        "# produce a matrix of zeros or ones or full, or eye \n",
        "print('full=','\\n',np.full([3,3],256),'\\n')\n",
        "print('Zeros=','\\n',np.zeros((2,3)),'\\n')\n",
        "print('ones=','\\n',np.ones((3,4)),'\\n')\n",
        "print('eye='+'\\n',np.eye(3),'\\n')\n",
        "\n"
      ],
      "metadata": {
        "colab": {
          "base_uri": "https://localhost:8080/"
        },
        "id": "UiL5oxtGLrF3",
        "outputId": "61c80c54-2dbc-495b-e0da-7294300e2a25"
      },
      "execution_count": null,
      "outputs": [
        {
          "output_type": "stream",
          "name": "stdout",
          "text": [
            "full= \n",
            " [[256 256 256]\n",
            " [256 256 256]\n",
            " [256 256 256]] \n",
            "\n",
            "Zeros= \n",
            " [[0. 0. 0.]\n",
            " [0. 0. 0.]] \n",
            "\n",
            "ones= \n",
            " [[1. 1. 1. 1.]\n",
            " [1. 1. 1. 1.]\n",
            " [1. 1. 1. 1.]] \n",
            "\n",
            "eye=\n",
            " [[1. 0. 0.]\n",
            " [0. 1. 0.]\n",
            " [0. 0. 1.]] \n",
            "\n"
          ]
        }
      ]
    },
    {
      "cell_type": "code",
      "source": [
        "# Array element wise operations\n",
        "j=np.array([[1,2,3],[1,2,3]])\n",
        "k=np.array([[10,20,30],[10,20,30]])\n",
        "print('add=','\\n',j+k)\n",
        "print('div=','\\n',j/k)"
      ],
      "metadata": {
        "colab": {
          "base_uri": "https://localhost:8080/"
        },
        "id": "Nmxcmwg3L09i",
        "outputId": "f2267cd8-47ee-48b2-ebff-82a0eacc4d04"
      },
      "execution_count": null,
      "outputs": [
        {
          "output_type": "stream",
          "name": "stdout",
          "text": [
            "add= \n",
            " [[11 22 33]\n",
            " [11 22 33]]\n",
            "div= \n",
            " [[0.1 0.1 0.1]\n",
            " [0.1 0.1 0.1]]\n"
          ]
        }
      ]
    },
    {
      "cell_type": "code",
      "source": [
        "# Matrix multiplication\n",
        "print('Matrix multiplication=','\\n', (np.array([1,2,3])) @ (np.array([[1],[2],[3]])) )"
      ],
      "metadata": {
        "colab": {
          "base_uri": "https://localhost:8080/"
        },
        "id": "aGoWt3oG-rZQ",
        "outputId": "a1ced8bd-9313-4496-bdac-1f594ae89467"
      },
      "execution_count": null,
      "outputs": [
        {
          "output_type": "stream",
          "name": "stdout",
          "text": [
            "Matrix multiplication= \n",
            " [14]\n"
          ]
        }
      ]
    },
    {
      "cell_type": "code",
      "source": [
        "# sum, Mean, max, min, std, sqrt, of all the elements in a matrix\n",
        "s=np.array([[1,2],[10,10]]) \n",
        "print('sum=',s.sum())\n",
        "print('mean=',s.mean())\n",
        "print('min=',s.min())\n",
        "print('max=',s.max())\n",
        "print('std=',s.std())\n",
        "print('var=',s.var())"
      ],
      "metadata": {
        "colab": {
          "base_uri": "https://localhost:8080/"
        },
        "id": "eb5Be0-0MGXV",
        "outputId": "0929da8a-a587-4014-cdb2-6f5095e05f83"
      },
      "execution_count": null,
      "outputs": [
        {
          "output_type": "stream",
          "name": "stdout",
          "text": [
            "sum= 23\n",
            "mean= 5.75\n",
            "min= 1\n",
            "max= 10\n",
            "std= 4.264680527307995\n",
            "var= 18.1875\n"
          ]
        }
      ]
    },
    {
      "cell_type": "code",
      "source": [
        "# Boolian condition on a matrix\n",
        "n=np.array([0,1,2,10])\n",
        "o=(n>5)\n",
        "print('o=',o)"
      ],
      "metadata": {
        "colab": {
          "base_uri": "https://localhost:8080/"
        },
        "id": "8PIXww1t-xth",
        "outputId": "355a3627-f249-4e27-8bac-c8ecc9aba0c3"
      },
      "execution_count": null,
      "outputs": [
        {
          "output_type": "stream",
          "name": "stdout",
          "text": [
            "o= [False False False  True]\n"
          ]
        }
      ]
    },
    {
      "cell_type": "code",
      "source": [
        "# shape & reshape a matrix \n",
        "z=np.arange(1,16,1)\n",
        "print('z=',z,'\\n')\n",
        "print('reshaped=','\\n',z.reshape(3,5),'\\n')\n",
        "print('the_current_shape_is_:',z.shape)"
      ],
      "metadata": {
        "colab": {
          "base_uri": "https://localhost:8080/"
        },
        "id": "y_gkM1bSMUX6",
        "outputId": "0ff43462-29c2-46f7-e0fe-880429c53d83"
      },
      "execution_count": null,
      "outputs": [
        {
          "output_type": "stream",
          "name": "stdout",
          "text": [
            "z= [ 1  2  3  4  5  6  7  8  9 10 11 12 13 14 15] \n",
            "\n",
            "reshaped= \n",
            " [[ 1  2  3  4  5]\n",
            " [ 6  7  8  9 10]\n",
            " [11 12 13 14 15]] \n",
            "\n",
            "the_current_shape_is_: (15,)\n"
          ]
        }
      ]
    },
    {
      "cell_type": "code",
      "source": [
        "#matrix transpose\n",
        "m_trans=np.array([[1,2,3,4,5,6],[0,0,0,0,0,0]])\n",
        "print('m_trans=','\\n',m_trans,'\\n')\n",
        "print('m_trans.T=','\\n',m_trans.T)"
      ],
      "metadata": {
        "colab": {
          "base_uri": "https://localhost:8080/"
        },
        "id": "hE0eVHocTVC7",
        "outputId": "3ec1e539-d364-429f-dae5-108c6e456ee8"
      },
      "execution_count": null,
      "outputs": [
        {
          "output_type": "stream",
          "name": "stdout",
          "text": [
            "m_trans= \n",
            " [[1 2 3 4 5 6]\n",
            " [0 0 0 0 0 0]] \n",
            "\n",
            "m_trans.T= \n",
            " [[1 0]\n",
            " [2 0]\n",
            " [3 0]\n",
            " [4 0]\n",
            " [5 0]\n",
            " [6 0]]\n"
          ]
        }
      ]
    },
    {
      "cell_type": "code",
      "source": [
        "#matrix concatenate\n",
        "d1=np.array([[0,0,0],[1,1,1],[2,2,2]])\n",
        "d11=np.array([[-1,-1,-1],[-9,-9,-9],[-88,-88,-88]])\n",
        "print('d1=','\\n',d1,'\\n')\n",
        "print('d11=','\\n',d11,'\\n')\n",
        "d111=np.concatenate((d1,d11),axis=1)\n",
        "print('d111=','\\n',d111)"
      ],
      "metadata": {
        "id": "YEv38_ISMxZ0",
        "colab": {
          "base_uri": "https://localhost:8080/"
        },
        "outputId": "822c8133-fd3a-47ba-8bbc-54957cd505fc"
      },
      "execution_count": null,
      "outputs": [
        {
          "output_type": "stream",
          "name": "stdout",
          "text": [
            "d1= \n",
            " [[0 0 0]\n",
            " [1 1 1]\n",
            " [2 2 2]] \n",
            "\n",
            "d11= \n",
            " [[ -1  -1  -1]\n",
            " [ -9  -9  -9]\n",
            " [-88 -88 -88]] \n",
            "\n",
            "d111= \n",
            " [[  0   0   0  -1  -1  -1]\n",
            " [  1   1   1  -9  -9  -9]\n",
            " [  2   2   2 -88 -88 -88]]\n"
          ]
        }
      ]
    },
    {
      "cell_type": "code",
      "source": [
        "#Matrix elements\n",
        "eye1=np.eye(4)\n",
        "for j in range(len(eye1)):\n",
        "  for i in range(len(eye1[0])):\n",
        "    if eye1[j,i]>0:\n",
        "      eye1[j,i]=1000\n",
        "    elif eye1[j,i]==0:\n",
        "      eye1[j,i]=2\n",
        "    i=i+1\n",
        "  j=j+1\n",
        "\n",
        "print('eye1=','\\n',eye1)"
      ],
      "metadata": {
        "colab": {
          "base_uri": "https://localhost:8080/"
        },
        "id": "6bOzzWItNB94",
        "outputId": "806ef433-d9f4-44f3-8bb9-61ca5d924085"
      },
      "execution_count": null,
      "outputs": [
        {
          "output_type": "stream",
          "name": "stdout",
          "text": [
            "eye1= \n",
            " [[1000.    2.    2.    2.]\n",
            " [   2. 1000.    2.    2.]\n",
            " [   2.    2. 1000.    2.]\n",
            " [   2.    2.    2. 1000.]]\n"
          ]
        }
      ]
    },
    {
      "cell_type": "code",
      "source": [
        "# using a csv file\n",
        "#here we cannot read anything that is not a number(nan)\n",
        "c1=np.genfromtxt(\"SPY_3.csv\",delimiter=',',skip_header=0)\n",
        "c1=np.delete(c1,0,axis=0)\n",
        "c1=np.delete(c1,0,axis=1)\n",
        "pd.DataFrame(c1).head(3)"
      ],
      "metadata": {
        "colab": {
          "base_uri": "https://localhost:8080/",
          "height": 142
        },
        "id": "eBPig731H2ab",
        "outputId": "123b7b7a-3f88-46f4-9d17-d739779e8573"
      },
      "execution_count": null,
      "outputs": [
        {
          "output_type": "execute_result",
          "data": {
            "text/html": [
              "\n",
              "  <div id=\"df-e51bff65-aa18-4cff-9fc6-f369717e60f1\">\n",
              "    <div class=\"colab-df-container\">\n",
              "      <div>\n",
              "<style scoped>\n",
              "    .dataframe tbody tr th:only-of-type {\n",
              "        vertical-align: middle;\n",
              "    }\n",
              "\n",
              "    .dataframe tbody tr th {\n",
              "        vertical-align: top;\n",
              "    }\n",
              "\n",
              "    .dataframe thead th {\n",
              "        text-align: right;\n",
              "    }\n",
              "</style>\n",
              "<table border=\"1\" class=\"dataframe\">\n",
              "  <thead>\n",
              "    <tr style=\"text-align: right;\">\n",
              "      <th></th>\n",
              "      <th>0</th>\n",
              "      <th>1</th>\n",
              "      <th>2</th>\n",
              "      <th>3</th>\n",
              "      <th>4</th>\n",
              "      <th>5</th>\n",
              "    </tr>\n",
              "  </thead>\n",
              "  <tbody>\n",
              "    <tr>\n",
              "      <th>0</th>\n",
              "      <td>371.779999</td>\n",
              "      <td>374.660004</td>\n",
              "      <td>371.230011</td>\n",
              "      <td>373.880005</td>\n",
              "      <td>368.959473</td>\n",
              "      <td>78520700.0</td>\n",
              "    </tr>\n",
              "    <tr>\n",
              "      <th>1</th>\n",
              "      <td>375.309998</td>\n",
              "      <td>375.450012</td>\n",
              "      <td>364.820007</td>\n",
              "      <td>368.790009</td>\n",
              "      <td>363.936462</td>\n",
              "      <td>110210800.0</td>\n",
              "    </tr>\n",
              "    <tr>\n",
              "      <th>2</th>\n",
              "      <td>368.100006</td>\n",
              "      <td>372.500000</td>\n",
              "      <td>368.049988</td>\n",
              "      <td>371.329987</td>\n",
              "      <td>366.442993</td>\n",
              "      <td>66426200.0</td>\n",
              "    </tr>\n",
              "  </tbody>\n",
              "</table>\n",
              "</div>\n",
              "      <button class=\"colab-df-convert\" onclick=\"convertToInteractive('df-e51bff65-aa18-4cff-9fc6-f369717e60f1')\"\n",
              "              title=\"Convert this dataframe to an interactive table.\"\n",
              "              style=\"display:none;\">\n",
              "        \n",
              "  <svg xmlns=\"http://www.w3.org/2000/svg\" height=\"24px\"viewBox=\"0 0 24 24\"\n",
              "       width=\"24px\">\n",
              "    <path d=\"M0 0h24v24H0V0z\" fill=\"none\"/>\n",
              "    <path d=\"M18.56 5.44l.94 2.06.94-2.06 2.06-.94-2.06-.94-.94-2.06-.94 2.06-2.06.94zm-11 1L8.5 8.5l.94-2.06 2.06-.94-2.06-.94L8.5 2.5l-.94 2.06-2.06.94zm10 10l.94 2.06.94-2.06 2.06-.94-2.06-.94-.94-2.06-.94 2.06-2.06.94z\"/><path d=\"M17.41 7.96l-1.37-1.37c-.4-.4-.92-.59-1.43-.59-.52 0-1.04.2-1.43.59L10.3 9.45l-7.72 7.72c-.78.78-.78 2.05 0 2.83L4 21.41c.39.39.9.59 1.41.59.51 0 1.02-.2 1.41-.59l7.78-7.78 2.81-2.81c.8-.78.8-2.07 0-2.86zM5.41 20L4 18.59l7.72-7.72 1.47 1.35L5.41 20z\"/>\n",
              "  </svg>\n",
              "      </button>\n",
              "      \n",
              "  <style>\n",
              "    .colab-df-container {\n",
              "      display:flex;\n",
              "      flex-wrap:wrap;\n",
              "      gap: 12px;\n",
              "    }\n",
              "\n",
              "    .colab-df-convert {\n",
              "      background-color: #E8F0FE;\n",
              "      border: none;\n",
              "      border-radius: 50%;\n",
              "      cursor: pointer;\n",
              "      display: none;\n",
              "      fill: #1967D2;\n",
              "      height: 32px;\n",
              "      padding: 0 0 0 0;\n",
              "      width: 32px;\n",
              "    }\n",
              "\n",
              "    .colab-df-convert:hover {\n",
              "      background-color: #E2EBFA;\n",
              "      box-shadow: 0px 1px 2px rgba(60, 64, 67, 0.3), 0px 1px 3px 1px rgba(60, 64, 67, 0.15);\n",
              "      fill: #174EA6;\n",
              "    }\n",
              "\n",
              "    [theme=dark] .colab-df-convert {\n",
              "      background-color: #3B4455;\n",
              "      fill: #D2E3FC;\n",
              "    }\n",
              "\n",
              "    [theme=dark] .colab-df-convert:hover {\n",
              "      background-color: #434B5C;\n",
              "      box-shadow: 0px 1px 3px 1px rgba(0, 0, 0, 0.15);\n",
              "      filter: drop-shadow(0px 1px 2px rgba(0, 0, 0, 0.3));\n",
              "      fill: #FFFFFF;\n",
              "    }\n",
              "  </style>\n",
              "\n",
              "      <script>\n",
              "        const buttonEl =\n",
              "          document.querySelector('#df-e51bff65-aa18-4cff-9fc6-f369717e60f1 button.colab-df-convert');\n",
              "        buttonEl.style.display =\n",
              "          google.colab.kernel.accessAllowed ? 'block' : 'none';\n",
              "\n",
              "        async function convertToInteractive(key) {\n",
              "          const element = document.querySelector('#df-e51bff65-aa18-4cff-9fc6-f369717e60f1');\n",
              "          const dataTable =\n",
              "            await google.colab.kernel.invokeFunction('convertToInteractive',\n",
              "                                                     [key], {});\n",
              "          if (!dataTable) return;\n",
              "\n",
              "          const docLinkHtml = 'Like what you see? Visit the ' +\n",
              "            '<a target=\"_blank\" href=https://colab.research.google.com/notebooks/data_table.ipynb>data table notebook</a>'\n",
              "            + ' to learn more about interactive tables.';\n",
              "          element.innerHTML = '';\n",
              "          dataTable['output_type'] = 'display_data';\n",
              "          await google.colab.output.renderOutput(dataTable, element);\n",
              "          const docLink = document.createElement('div');\n",
              "          docLink.innerHTML = docLinkHtml;\n",
              "          element.appendChild(docLink);\n",
              "        }\n",
              "      </script>\n",
              "    </div>\n",
              "  </div>\n",
              "  "
            ],
            "text/plain": [
              "            0           1           2           3           4            5\n",
              "0  371.779999  374.660004  371.230011  373.880005  368.959473   78520700.0\n",
              "1  375.309998  375.450012  364.820007  368.790009  363.936462  110210800.0\n",
              "2  368.100006  372.500000  368.049988  371.329987  366.442993   66426200.0"
            ]
          },
          "metadata": {},
          "execution_count": 60
        }
      ]
    }
  ]
}